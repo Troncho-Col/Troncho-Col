{
 "cells": [
  {
   "cell_type": "markdown",
   "id": "992efe39",
   "metadata": {},
   "source": [
    "\n",
    "## Exercice 1: CENTRAL LIMIT THEOREM\n",
    "\n",
    "### Pol Adillon Albero\n",
    "14/12/2021\n",
    "\n",
    "**Objetive:** Consider the problem of throwing dice multiple times and calculate the resulting distribution."
   ]
  },
  {
   "cell_type": "markdown",
   "id": "db87878c",
   "metadata": {},
   "source": [
    "### 1.1 Figure 1\n",
    "\n",
    "A die, thrown once, generates an integer number in the range from 1 to 6.\n",
    "\n",
    "Calculate the mean value $\\mu$,\n",
    "\n",
    "$$ \\mu = <x> = \\frac{1}{6}\\sum^6_{i=1} x_i$$\n",
    "\n",
    "with $x_i = i$ and the variance $\\sigma$\n",
    "\n",
    "$$\\sigma ^2 = <x^2>-<x>^2$$\n",
    "\n",
    "where \n",
    "$$ <x^2> = \\frac{1}{6}\\sum^6_{i=1} x_i^2$$"
   ]
  },
  {
   "cell_type": "code",
   "execution_count": 605,
   "id": "9bab64c3",
   "metadata": {},
   "outputs": [
    {
     "name": "stdout",
     "output_type": "stream",
     "text": [
      "Mean Value: μ = 3.5\n",
      "Variance: σ = 1.707825127659933\n"
     ]
    }
   ],
   "source": [
    "import random\n",
    "import matplotlib.pyplot as plt\n",
    "import numpy as np\n",
    "\n",
    "\n",
    "#Mean Value calcultation:\n",
    "mu_= 0  # mean value but not normalized\n",
    "mu2_ = 0 # <x²> but not normalized\n",
    "for i in range(1,7):\n",
    "    mu_ = mu_ + i\n",
    "    mu2_ = mu2_ + i**2\n",
    "    \n",
    "    \n",
    "mu = mu_/6\n",
    "mu2 = mu2_/6\n",
    "\n",
    "variance2 = mu2-mu**2\n",
    "variance = np.sqrt(variance2)\n",
    "\n",
    "print(\"Mean Value: μ =\",mu)\n",
    "print(\"Variance: σ =\", variance)\n"
   ]
  },
  {
   "cell_type": "markdown",
   "id": "06af2e66",
   "metadata": {},
   "source": [
    "Use a random number generator to simulate dice throwing and calculate the resulting probability distribution $p_i$ of obtaining each numbers $i$ from 1 to 6. Use discrete normalization\n",
    "\n",
    "$$ \\sum_i p_i = 1 $$"
   ]
  },
  {
   "cell_type": "code",
   "execution_count": 606,
   "id": "f379c1ea",
   "metadata": {},
   "outputs": [
    {
     "name": "stdout",
     "output_type": "stream",
     "text": [
      "Random output of thowing a die: 4\n",
      "These are the possible outoputs:\n",
      "Possible_Outcome [1.0, 2.0, 3.0, 4.0, 5.0, 6.0]\n",
      "Here we have how many times we have get each number:\n",
      "Outcome_Counter: [0, 0, 0, 0, 0, 0]\n",
      "True\n"
     ]
    }
   ],
   "source": [
    "N_dice = 1              #Number of dice used\n",
    "\n",
    "print(\"Random output of thowing a die:\", random.randint(1,6))\n",
    "\n",
    "Possible_Outcome = [0]*(5*N_dice+1)  #It contains all the possible outputs\n",
    "                                     #of throwing N dice, summing the outputs,\n",
    "                                     #and deviding the sum by N_dice.\n",
    "Outcome_Counter = [0]*(5*N_dice+1)   #We will count how many times we get each number\n",
    "\n",
    "for i in range(5*N_dice+1):\n",
    "    Possible_Outcome[i] = 1 +(1/N_dice)*i\n",
    "    \n",
    "print(\"These are the possible outoputs:\")\n",
    "print(\"Possible_Outcome\", Possible_Outcome)\n",
    "    \n",
    "print(\"Here we have how many times we have get each number:\")\n",
    "print(\"Outcome_Counter:\", Outcome_Counter)\n",
    "\n",
    "#Just to check (JTC): Both lists must have the same length.\n",
    "print(len(Possible_Outcome)==len(Outcome_Counter))\n"
   ]
  },
  {
   "cell_type": "code",
   "execution_count": 607,
   "id": "ccbd31ac",
   "metadata": {},
   "outputs": [
    {
     "name": "stdout",
     "output_type": "stream",
     "text": [
      "Afer  10000 our list is\n",
      "[1682, 1626, 1641, 1693, 1671, 1687]\n",
      "The total number of throws is: 10000\n"
     ]
    }
   ],
   "source": [
    "N_throws = 10000                       #Number of throws\n",
    "Outcome_Counter = [0]*(5*N_dice+1)     #Inizialize the list to 0\n",
    "\n",
    "#Thowing the die N_throws and counting the different outputs\n",
    "#This ONLY for 1 DIE!\n",
    "for _ in range(N_throws):\n",
    "    i=random.randint(1,6)\n",
    "    Outcome_Counter[i-1] = Outcome_Counter[i-1]+1\n",
    "    \n",
    "print(\"Afer \",N_throws,\"our list is\")\n",
    "print(Outcome_Counter)\n",
    "\n",
    "#JTC: sum(Outcome_Counter)==N_throws\n",
    "print(\"The total number of throws is:\", sum(Outcome_Counter))"
   ]
  },
  {
   "cell_type": "markdown",
   "id": "6aef2224",
   "metadata": {},
   "source": [
    "Plot the resulting probability distribution function $p_i$ and compare it with uniform distribution prediction."
   ]
  },
  {
   "cell_type": "code",
   "execution_count": 608,
   "id": "f86b1ff3",
   "metadata": {},
   "outputs": [
    {
     "data": {
      "image/png": "[encoded data removed]",
      "text/plain": [
       "<Figure size 432x288 with 1 Axes>"
      ]
     },
     "metadata": {
      "needs_background": "light"
     },
     "output_type": "display_data"
    },
    {
     "name": "stdout",
     "output_type": "stream",
     "text": [
      "Check if the probabilities are normalized. Σp_i=  1.0\n"
     ]
    }
   ],
   "source": [
    "plt.xlim([1,6])\n",
    "plt.ylim([0,1])\n",
    "plt.xlabel(\"$x$\")\n",
    "plt.ylabel(\"$P_i$\")\n",
    "plt.title(\"Task 1: die\")\n",
    "\n",
    "#Outcome_Counter has been normalized (N_throws)\n",
    "plt.scatter(Possible_Outcome,np.divide(Outcome_Counter,N_throws), s=100)\n",
    "plt.axhline(y = 1/6, color = \"r\", linestyle = \"-\")\n",
    "plt.show()\n",
    "\n",
    "#Σpi = 1\n",
    "print(\"Check if the probabilities are normalized. Σp_i= \",sum(np.divide(Outcome_Counter,N_throws)))"
   ]
  },
  {
   "cell_type": "markdown",
   "id": "f41f946b",
   "metadata": {},
   "source": [
    "### 1.2 Figure 2\n",
    "\n",
    "Assume that one random even consists in throwing a die twice and calculating the average value,\n",
    "\n",
    "$$ x = \\dfrac{rand(6)+rand(6)}{2} $$\n",
    "    \n",
    "Calculate the probability distribution of the outcome and show it on the figure."
   ]
  },
  {
   "cell_type": "code",
   "execution_count": 609,
   "id": "2fc6c338",
   "metadata": {},
   "outputs": [
    {
     "name": "stdout",
     "output_type": "stream",
     "text": [
      "Afer  10000 our list is\n",
      "[292, 544, 882, 1082, 1378, 1669, 1394, 1063, 840, 570, 286]\n",
      "The total number of throws is: 10000\n"
     ]
    }
   ],
   "source": [
    "N_throws = 10000       #Number of throws\n",
    "N_dice = 2             #Number of dice\n",
    "\n",
    "Possible_Outcome = [0]*(5*N_dice+1)  #It contains all the possible outputs\n",
    "                                     #of throwing N dice, summing the outputs,\n",
    "                                     #and deviding the sum by N_dice.\n",
    "Outcome_Counter = [0]*(5*N_dice+1)   #We will count how many times we get each number\n",
    "\n",
    "for i in range(5*N_dice+1):          #The step between different possible Outcomes is 1/N_dice\n",
    "    Possible_Outcome[i] = 1 +(1/N_dice)*i\n",
    "    \n",
    "#print(\"These are the possible outoputs:\")\n",
    "#print(\"Possible_Outcome\", Possible_Outcome)\n",
    "#print(\"Here we have how many times we have get each number:\")\n",
    "#print(\"Outcome_Counter:\", Outcome_Counter)\n",
    "\n",
    "\n",
    "for _ in range(N_throws):\n",
    "    suma = 0                   #He we'll add the sum of all dice\n",
    "    for l in range(N_dice):\n",
    "        i=random.randint(1,6)\n",
    "        suma = suma + i\n",
    "    \n",
    "    x = suma/N_dice           #Average all dice\n",
    "    \n",
    "    #Actualize Outcome_Counter list. \n",
    "    Outcome_Counter[int((x-1)*N_dice)] = Outcome_Counter[int((x-1)*N_dice)]+1\n",
    "    #With int() we have some problems for numbers as 9.999999998\n",
    "    #Outcome_Counter[int((x-1)*N_dice)] = Outcome_Counter[int((x-1)*N_dice)]+1\n",
    "    \n",
    "    \n",
    "print(\"Afer \",N_throws,\"our list is\")\n",
    "print(Outcome_Counter)\n",
    "\n",
    "total = sum(Outcome_Counter)\n",
    "\n",
    "#JTC: sum(Outcome_Counter)==N_throws\n",
    "print(\"The total number of throws is:\", sum(Outcome_Counter))"
   ]
  },
  {
   "cell_type": "code",
   "execution_count": 610,
   "id": "e701d99f",
   "metadata": {},
   "outputs": [
    {
     "data": {
      "image/png": "[encoded data removed]",
      "text/plain": [
       "<Figure size 432x288 with 1 Axes>"
      ]
     },
     "metadata": {
      "needs_background": "light"
     },
     "output_type": "display_data"
    },
    {
     "name": "stdout",
     "output_type": "stream",
     "text": [
      "Check if the probabilities are normalized. Σp_i=  1.0\n"
     ]
    }
   ],
   "source": [
    "plt.ylim([0,0.5])\n",
    "plt.xlabel(\"$x$\")\n",
    "plt.ylabel(\"$P_i$\")\n",
    "title = \"%s dice\" % (N_dice)\n",
    "plt.title(title)\n",
    "\n",
    "#plt.title(\"dice\")\n",
    "\n",
    "#Outcome_Counter has been normalized (N_throws)\n",
    "#(???)\n",
    "#And multipied by N_dice (???) Not sure why I have to do this or if I have (???)\n",
    "plt.scatter(Possible_Outcome,np.divide(Outcome_Counter,N_throws), s=100)\n",
    "\n",
    "\n",
    "plt.axhline(y = 1/6, color = \"r\", linestyle = \"-\")\n",
    "plt.show()\n",
    "\n",
    "\n",
    "#Σpi = 1\n",
    "print(\"Check if the probabilities are normalized. Σp_i= \",sum(np.divide(Outcome_Counter,N_throws)))"
   ]
  },
  {
   "cell_type": "markdown",
   "id": "a13770f9",
   "metadata": {},
   "source": [
    "### 1.3 Figure 3\n",
    "\n",
    "Consider the case when one random even consists in throwing a die $N$ times and calculating the average value\n",
    "\n",
    "$$ x = \\dfrac{\\sum_i^N rand(6)}{N} $$\n",
    "    \n",
    "Calculate the probability distribution $p(x)$ and assume that for large $N$, the spacing $dx$ between two allowed subsequent values of $x$ is small and that random value $x$ can be considered as a continuous variable. Use continuous variable convertion to normalize the PDF, \n",
    "\n",
    "$$\\int p(x)dx = 1 $$\n",
    "\n",
    "Compare the obtained result with the prediction of the Central Limit Theorem:\n",
    "\n",
    "$$ g(x) = \\frac{1}{\\sqrt{2\\pi}\\sigma '} \\exp \\left(- \\frac{(x-\\mu)^2}{2 \\sigma ' ^2} \\right)$$\n",
    "\n",
    "where the reduced variance is given by $\\sigma ' = \\frac{\\sigma }{\\sqrt{N}}$\n",
    "\n",
    "Find a large enough value of $N$ so that the CLT applies and show ther resulting."
   ]
  },
  {
   "cell_type": "code",
   "execution_count": 611,
   "id": "3a7f4b5d",
   "metadata": {},
   "outputs": [
    {
     "name": "stdout",
     "output_type": "stream",
     "text": [
      "Afer  10000 our list is\n",
      "The total number of throws is: 10000\n"
     ]
    }
   ],
   "source": [
    "N_throws = 10000     #Number of throws\n",
    "N_dice = 10          #Number of dice\n",
    "\n",
    "Possible_Outcome = [0]*(5*N_dice+1)  #It contains all the possible outputs\n",
    "                                     #of throwing N dice, summing the outputs,\n",
    "                                     #and deviding the sum by N_dice.\n",
    "Outcome_Counter = [0]*(5*N_dice+1)   #We will count how many times we get each number\n",
    "\n",
    "for i in range(5*N_dice+1):          #The step between different possible Outcomes is 1/N_dice\n",
    "    Possible_Outcome[i] = 1 +(1/N_dice)*i\n",
    "    \n",
    "#print(\"These are the possible outoputs:\")\n",
    "#print(\"Possible_Outcome\", Possible_Outcome)\n",
    "#print(\"Here we have how many times we have get each number:\")\n",
    "#print(\"Outcome_Counter:\", Outcome_Counter)\n",
    "\n",
    "\n",
    "for _ in range(N_throws):\n",
    "    suma = 0                   #He we'll add the sum of all dice\n",
    "    for l in range(N_dice):\n",
    "        i=random.randint(1,6)\n",
    "        suma = suma + i\n",
    "          \n",
    "    x = suma/N_dice            #Average all dice\n",
    "    \n",
    "    #print((x-1.00)*N_dice)\n",
    "    #if (x>2.4 and x<2.5):\n",
    "        #print(x)\n",
    "        #print(round((x-1.00)*N_dice))\n",
    "     \n",
    "    #Actualize Outcome_Counter list. \n",
    "    Outcome_Counter[round((x-1.00)*N_dice)] = Outcome_Counter[round((x-1)*N_dice)]+1\n",
    "    \n",
    "    \n",
    "print(\"Afer \",N_throws,\"our list is\")\n",
    "\n",
    "### JTC ###\n",
    "#for i in range(len(Possible_Outcome)):\n",
    "#    print(\"%0.2f\" %Possible_Outcome[i],Outcome_Counter[i], \"\\n\")\n",
    "    \n",
    "    \n",
    "#print(Possible_Outcome,Outcome_Counter)\n",
    "\n",
    "total = sum(Outcome_Counter)\n",
    "\n",
    "#JTC: sum(Outcome_Counter)==N_throws\n",
    "print(\"The total number of throws is:\", sum(Outcome_Counter))"
   ]
  },
  {
   "cell_type": "code",
   "execution_count": 645,
   "id": "47c622d8",
   "metadata": {},
   "outputs": [
    {
     "name": "stdout",
     "output_type": "stream",
     "text": [
      "Check if the probabilities are normalized. Σp_i=  0.9999999999999999\n",
      "Check if the probabilities are normalized. ∫p_i dx=  0.09999999999999999\n",
      "Δx:  0.1\n"
     ]
    },
    {
     "data": {
      "image/png": "[encoded data removed]",
      "text/plain": [
       "<Figure size 432x288 with 1 Axes>"
      ]
     },
     "metadata": {
      "needs_background": "light"
     },
     "output_type": "display_data"
    }
   ],
   "source": [
    "ax = plt.gca()\n",
    "ax.autoscale_view()\n",
    "ax.relim()\n",
    "\n",
    "#plt.ylim([0,0.5])\n",
    "plt.xlabel(\"$x$\")\n",
    "plt.ylabel(\"$P_i$\")\n",
    "title = \"%s dice\" % (N_dice)\n",
    "plt.title(title)\n",
    "\n",
    "plt.scatter(Possible_Outcome,np.divide(Outcome_Counter,N_throws), s=60)\n",
    "\n",
    "\n",
    "# Gaussian:\n",
    "t = np.arange(1., 6., 0.01)\n",
    "gaussian = 1/(np.sqrt(2*np.pi)*variance)*np.exp(-np.square(t-mu)/2*variance**2)\n",
    "\n",
    "plt.plot(t, gaussian, 'r')\n",
    "\n",
    "#Normalization:\n",
    "plt.scatter(Possible_Outcome,np.divide(Outcome_Counter,N_throws/3.3), s=60)\n",
    "\n",
    "\n",
    "plt.draw()\n",
    "\n",
    "\n",
    "#Σpi = 1 (Discontinous)\n",
    "print(\"Check if the probabilities are normalized. Σp_i= \",sum(np.divide(Outcome_Counter,N_throws)))\n",
    "\n",
    "#∫pi = 1 (Continous)\n",
    "print(\"Check if the probabilities are normalized. ∫p_i dx= \",sum(np.divide(Outcome_Counter,N_throws))*(1/N_dice))\n",
    "\n",
    "print(\"Δx: \",1/N_dice)\n",
    "\n",
    "\n",
    "\n",
    "\n"
   ]
  },
  {
   "cell_type": "markdown",
   "id": "a6e1422e",
   "metadata": {},
   "source": [
    "\n",
    "Red line: $ g(x) = \\frac{1}{\\sqrt{2\\pi}\\sigma '} \\exp \\left(- \\frac{(x-\\mu)^2}{2 \\sigma ' ^2} \\right)$\n",
    "\n",
    "Blue dots: $\\sum p_i = 1$\n",
    "\n",
    "Orange dots: $\\int p_i dx = 1$\n",
    "\n"
   ]
  },
  {
   "cell_type": "code",
   "execution_count": 613,
   "id": "f4dff4a9",
   "metadata": {},
   "outputs": [],
   "source": [
    "\n",
    "plt.show()\n",
    "\n"
   ]
  },
  {
   "cell_type": "markdown",
   "id": "16727098",
   "metadata": {},
   "source": [
    "### 1.4 Error estimation\n",
    "\n",
    "Assume that multiple dice throwing is used to estimate the mean value $\\mu$. Estimate $\\mu$ by throwing $N =10$ and $N = 100$ dice. Estimate the statistical error by $\\sigma$. Report the obtained numbers."
   ]
  },
  {
   "cell_type": "code",
   "execution_count": 481,
   "id": "b75b2f95",
   "metadata": {},
   "outputs": [
    {
     "name": "stdout",
     "output_type": "stream",
     "text": [
      "Num. dice: 10\n",
      "mean_value_data: μ* = 3.7\n",
      "Mean Value: μ = 3.5\n",
      "Variance: σ = 1.707825127659933\n",
      "Error: μ*-μ = 0.20000000000000018\n",
      "Statistical error: σ/sqrt(N)= 0.5400617248673216\n",
      "True\n",
      "\n",
      "Num. dice: 100\n",
      "mean_value_data: μ* = 3.21\n",
      "Mean Value: μ = 3.5\n",
      "Variance: σ = 1.707825127659933\n",
      "Error: μ*-μ = -0.29000000000000004\n",
      "Statistical error: σ/sqrt(N)= 0.1707825127659933\n",
      "True\n",
      "\n",
      "Error is of the order the statistical error.\n",
      "Error gets smaller when N increases\n"
     ]
    }
   ],
   "source": [
    "#Multiple dice throwing\n",
    "N_dice = 10\n",
    "adder = 0\n",
    "for _ in range(N_dice):\n",
    "    i=random.randint(1,6)\n",
    "    adder = adder + i\n",
    "\n",
    "mean_value_data = adder/N_dice\n",
    "\n",
    "print(\"Num. dice:\",N_dice)\n",
    "print(\"mean_value_data: μ* =\",mean_value_data)\n",
    "print(\"Mean Value: μ =\",mu)\n",
    "print(\"Variance: σ =\", variance)\n",
    "print(\"Error: μ*-μ =\",mean_value_data-mu)\n",
    "print(\"Statistical error: σ/sqrt(N)=\",variance/(N_dice)**(1/2))\n",
    "\n",
    "#Error is of the order the statistical error\n",
    "#If we take 3σ/sqrt(N) the error is 'always' smaller than the statistical\n",
    "print(3*variance/(N_dice)**(1/2)>abs(mean_value_data-mu))\n",
    "print()\n",
    "\n",
    "N_dice = 100\n",
    "adder = 0\n",
    "for _ in range(N_dice):\n",
    "    i=random.randint(1,6)\n",
    "    adder = adder + i\n",
    "\n",
    "mean_value_data = adder/N_dice\n",
    "\n",
    "print(\"Num. dice:\",N_dice)\n",
    "print(\"mean_value_data: μ* =\",mean_value_data)\n",
    "print(\"Mean Value: μ =\",mu)\n",
    "print(\"Variance: σ =\", variance)\n",
    "print(\"Error: μ*-μ =\",mean_value_data-mu)\n",
    "print(\"Statistical error: σ/sqrt(N)=\",variance/(N_dice)**(1/2))\n",
    "\n",
    "#Error is of the order the statistical error\n",
    "#If we take 3σ/sqrt(N) the error is 'always' smaller than the statistical\n",
    "print(3*variance/(N_dice)**(1/2)>abs(mean_value_data-mu))\n",
    "print()\n",
    "\n",
    "print(\"Error is of the order the statistical error.\")\n",
    "print(\"Error gets smaller when N increases\")\n",
    "\n"
   ]
  },
  {
   "cell_type": "code",
   "execution_count": null,
   "id": "a78d80c1",
   "metadata": {},
   "outputs": [],
   "source": [
    "\n",
    "    "
   ]
  }
 ],
 "metadata": {
  "kernelspec": {
   "display_name": "Python 3 (ipykernel)",
   "language": "python",
   "name": "python3"
  },
  "language_info": {
   "codemirror_mode": {
    "name": "ipython",
    "version": 3
   },
   "file_extension": ".py",
   "mimetype": "text/x-python",
   "name": "python",
   "nbconvert_exporter": "python",
   "pygments_lexer": "ipython3",
   "version": "3.9.7"
  }
 },
 "nbformat": 4,
 "nbformat_minor": 5
}
